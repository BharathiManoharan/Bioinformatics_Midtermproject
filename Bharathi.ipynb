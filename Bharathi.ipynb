{
 "cells": [
  {
   "cell_type": "code",
   "execution_count": 4,
   "metadata": {},
   "outputs": [
    {
     "data": {
      "text/html": [
       "<ol class=list-inline>\n",
       "\t<li>18926</li>\n",
       "\t<li>50</li>\n",
       "</ol>\n"
      ],
      "text/latex": [
       "\\begin{enumerate*}\n",
       "\\item 18926\n",
       "\\item 50\n",
       "\\end{enumerate*}\n"
      ],
      "text/markdown": [
       "1. 18926\n",
       "2. 50\n",
       "\n",
       "\n"
      ],
      "text/plain": [
       "[1] 18926    50"
      ]
     },
     "metadata": {},
     "output_type": "display_data"
    },
    {
     "data": {
      "text/html": [
       "<table>\n",
       "<thead><tr><th></th><th scope=col>B_GSM886836</th><th scope=col>B_GSM886859</th><th scope=col>B_GSM886901</th><th scope=col>B_GSM886912</th><th scope=col>B_GSM887015</th><th scope=col>B_GSM887088</th></tr></thead>\n",
       "<tbody>\n",
       "\t<tr><th scope=row>100009676_at</th><td>6.2052 </td><td>5.4153 </td><td>5.5729 </td><td>5.8700 </td><td>5.8151 </td><td> 5.2842</td></tr>\n",
       "\t<tr><th scope=row>10000_at</th><td>6.6152 </td><td>4.6571 </td><td>4.9790 </td><td>7.8872 </td><td>5.9303 </td><td> 6.9926</td></tr>\n",
       "\t<tr><th scope=row>10001_at</th><td>9.9699 </td><td>9.4435 </td><td>9.0982 </td><td>8.3093 </td><td>8.1213 </td><td>10.1340</td></tr>\n",
       "\t<tr><th scope=row>10002_at</th><td>4.0304 </td><td>4.0395 </td><td>3.8002 </td><td>3.5999 </td><td>4.0901 </td><td> 3.8586</td></tr>\n",
       "\t<tr><th scope=row>10003_at</th><td>3.8504 </td><td>4.9709 </td><td>7.0736 </td><td>4.5478 </td><td>4.4081 </td><td> 3.7288</td></tr>\n",
       "</tbody>\n",
       "</table>\n"
      ],
      "text/latex": [
       "\\begin{tabular}{r|llllll}\n",
       "  & B\\_GSM886836 & B\\_GSM886859 & B\\_GSM886901 & B\\_GSM886912 & B\\_GSM887015 & B\\_GSM887088\\\\\n",
       "\\hline\n",
       "\t100009676\\_at & 6.2052  & 5.4153  & 5.5729  & 5.8700  & 5.8151  &  5.2842\\\\\n",
       "\t10000\\_at & 6.6152  & 4.6571  & 4.9790  & 7.8872  & 5.9303  &  6.9926\\\\\n",
       "\t10001\\_at & 9.9699  & 9.4435  & 9.0982  & 8.3093  & 8.1213  & 10.1340\\\\\n",
       "\t10002\\_at & 4.0304  & 4.0395  & 3.8002  & 3.5999  & 4.0901  &  3.8586\\\\\n",
       "\t10003\\_at & 3.8504  & 4.9709  & 7.0736  & 4.5478  & 4.4081  &  3.7288\\\\\n",
       "\\end{tabular}\n"
      ],
      "text/markdown": [
       "\n",
       "| <!--/--> | B_GSM886836 | B_GSM886859 | B_GSM886901 | B_GSM886912 | B_GSM887015 | B_GSM887088 | \n",
       "|---|---|---|---|---|\n",
       "| 100009676_at | 6.2052  | 5.4153  | 5.5729  | 5.8700  | 5.8151  |  5.2842 | \n",
       "| 10000_at | 6.6152  | 4.6571  | 4.9790  | 7.8872  | 5.9303  |  6.9926 | \n",
       "| 10001_at | 9.9699  | 9.4435  | 9.0982  | 8.3093  | 8.1213  | 10.1340 | \n",
       "| 10002_at | 4.0304  | 4.0395  | 3.8002  | 3.5999  | 4.0901  |  3.8586 | \n",
       "| 10003_at | 3.8504  | 4.9709  | 7.0736  | 4.5478  | 4.4081  |  3.7288 | \n",
       "\n",
       "\n"
      ],
      "text/plain": [
       "             B_GSM886836 B_GSM886859 B_GSM886901 B_GSM886912 B_GSM887015\n",
       "100009676_at 6.2052      5.4153      5.5729      5.8700      5.8151     \n",
       "10000_at     6.6152      4.6571      4.9790      7.8872      5.9303     \n",
       "10001_at     9.9699      9.4435      9.0982      8.3093      8.1213     \n",
       "10002_at     4.0304      4.0395      3.8002      3.5999      4.0901     \n",
       "10003_at     3.8504      4.9709      7.0736      4.5478      4.4081     \n",
       "             B_GSM887088\n",
       "100009676_at  5.2842    \n",
       "10000_at      6.9926    \n",
       "10001_at     10.1340    \n",
       "10002_at      3.8586    \n",
       "10003_at      3.7288    "
      ]
     },
     "metadata": {},
     "output_type": "display_data"
    }
   ],
   "source": [
    "mat.sub <- read.table (\"CCLE_expr_bone_oesophagus_forR.txt\", sep=\"\\t\", header=T)\n",
    "dim (mat.sub)\n",
    "mat.sub[1:5, 1:6]"
   ]
  },
  {
   "cell_type": "code",
   "execution_count": 5,
   "metadata": {},
   "outputs": [
    {
     "data": {
      "text/html": [
       "18926"
      ],
      "text/latex": [
       "18926"
      ],
      "text/markdown": [
       "18926"
      ],
      "text/plain": [
       "[1] 18926"
      ]
     },
     "metadata": {},
     "output_type": "display_data"
    }
   ],
   "source": [
    "# compute p-value using t-test for all the genes\n",
    "p.vec <- apply (mat.sub, 1, function(x) {t.test(x[1:25], x[26:50])$p.value})\n",
    "length(p.vec)\n",
    "\n"
   ]
  },
  {
   "cell_type": "markdown",
   "metadata": {},
   "source": [
    "##### Benjamini–Hochberg Test\n",
    "\n",
    "Benjamini-Hochberg false discovery detection method is also another test used for correction."
   ]
  },
  {
   "cell_type": "markdown",
   "metadata": {},
   "source": [
    "###### Adjust P-values for Multiple Comparisons\n",
    "\n",
    "We will be using the function called 'p.adjust'. Given a set of p-values, returns p-values adjusted using one of several methods.\n",
    "Usage: p.adjust(p, method = p.adjust.methods)\n",
    "\n",
    "In our case, p will be 'p.vec' matrix and method for p-value adjustment is \"BH\" (Benjamini–Hochberg)\n"
   ]
  },
  {
   "cell_type": "code",
   "execution_count": 6,
   "metadata": {},
   "outputs": [
    {
     "data": {
      "text/html": [
       "18926"
      ],
      "text/latex": [
       "18926"
      ],
      "text/markdown": [
       "18926"
      ],
      "text/plain": [
       "[1] 18926"
      ]
     },
     "metadata": {},
     "output_type": "display_data"
    },
    {
     "data": {
      "text/html": [
       "5501"
      ],
      "text/latex": [
       "5501"
      ],
      "text/markdown": [
       "5501"
      ],
      "text/plain": [
       "[1] 5501"
      ]
     },
     "metadata": {},
     "output_type": "display_data"
    },
    {
     "data": {
      "text/html": [
       "3430"
      ],
      "text/latex": [
       "3430"
      ],
      "text/markdown": [
       "3430"
      ],
      "text/plain": [
       "[1] 3430"
      ]
     },
     "metadata": {},
     "output_type": "display_data"
    },
    {
     "data": {
      "text/html": [
       "<ol class=list-inline>\n",
       "\t<li>'10001_at'</li>\n",
       "\t<li>'10003_at'</li>\n",
       "\t<li>'10009_at'</li>\n",
       "\t<li>'1000_at'</li>\n",
       "\t<li>'100101467_at'</li>\n",
       "</ol>\n"
      ],
      "text/latex": [
       "\\begin{enumerate*}\n",
       "\\item '10001\\_at'\n",
       "\\item '10003\\_at'\n",
       "\\item '10009\\_at'\n",
       "\\item '1000\\_at'\n",
       "\\item '100101467\\_at'\n",
       "\\end{enumerate*}\n"
      ],
      "text/markdown": [
       "1. '10001_at'\n",
       "2. '10003_at'\n",
       "3. '10009_at'\n",
       "4. '1000_at'\n",
       "5. '100101467_at'\n",
       "\n",
       "\n"
      ],
      "text/plain": [
       "[1] \"10001_at\"     \"10003_at\"     \"10009_at\"     \"1000_at\"      \"100101467_at\""
      ]
     },
     "metadata": {},
     "output_type": "display_data"
    }
   ],
   "source": [
    "bht <- p.adjust(p.vec, method = \"BH\")\n",
    "length(bht)\n",
    "\n",
    "\n",
    "# select indices for the genes having p-value less than 0.05 (5% significance level)\n",
    "de.bht.ind <- which(bht<0.05)\n",
    "length(de.bht.ind)\n",
    "\n",
    "# select indices for the genes having p-value less than 0.01 (1% significance level)\n",
    "de.bht.ind2 <- which(bht<0.01)\n",
    "length(de.bht.ind2)\n",
    "\n",
    "# save the indices for Differentially expressed genes (DE)\n",
    "de.bht.vec <- dimnames(mat.sub)[[1]][de.bht.ind]\n",
    "de.bht.vec[1:5]"
   ]
  },
  {
   "cell_type": "code",
   "execution_count": 7,
   "metadata": {},
   "outputs": [],
   "source": [
    "# Save Benjamini–Hochberg DE probes in a new matrix\n",
    "fdr.DE.mat <- mat.sub[de.bht.ind,]"
   ]
  },
  {
   "cell_type": "markdown",
   "metadata": {},
   "source": [
    "##### LIMMA\n",
    "\n",
    "LIMMA (Linear Models for Microarrays) is an established method for differential expression analyses of microarray. LIMMA accounts for the experimental design and uses an empirical Bayes approach to estimate the variance among samples. It has been shown to be a robust method for data with small sample sizes . LIMMA R package was used and two-group design matrix was considered.\n",
    "http://www.bioconductor.org/packages/devel/bioc/vignettes/limma/inst/doc/usersguide.pdf"
   ]
  },
  {
   "cell_type": "code",
   "execution_count": 20,
   "metadata": {},
   "outputs": [
    {
     "name": "stderr",
     "output_type": "stream",
     "text": [
      "Bioconductor version 3.6 (BiocInstaller 1.28.0), ?biocLite for help\n",
      "Loading required package: Biobase\n",
      "Loading required package: BiocGenerics\n",
      "Loading required package: parallel\n",
      "\n",
      "Attaching package: 'BiocGenerics'\n",
      "\n",
      "The following objects are masked from 'package:parallel':\n",
      "\n",
      "    clusterApply, clusterApplyLB, clusterCall, clusterEvalQ,\n",
      "    clusterExport, clusterMap, parApply, parCapply, parLapply,\n",
      "    parLapplyLB, parRapply, parSapply, parSapplyLB\n",
      "\n",
      "The following object is masked from 'package:limma':\n",
      "\n",
      "    plotMA\n",
      "\n",
      "The following objects are masked from 'package:stats':\n",
      "\n",
      "    IQR, mad, sd, var, xtabs\n",
      "\n",
      "The following objects are masked from 'package:base':\n",
      "\n",
      "    anyDuplicated, append, as.data.frame, cbind, colMeans, colnames,\n",
      "    colSums, do.call, duplicated, eval, evalq, Filter, Find, get, grep,\n",
      "    grepl, intersect, is.unsorted, lapply, lengths, Map, mapply, match,\n",
      "    mget, order, paste, pmax, pmax.int, pmin, pmin.int, Position, rank,\n",
      "    rbind, Reduce, rowMeans, rownames, rowSums, sapply, setdiff, sort,\n",
      "    table, tapply, union, unique, unsplit, which, which.max, which.min\n",
      "\n",
      "Welcome to Bioconductor\n",
      "\n",
      "    Vignettes contain introductory material; view with\n",
      "    'browseVignettes()'. To cite Bioconductor, see\n",
      "    'citation(\"Biobase\")', and for packages 'citation(\"pkgname\")'.\n",
      "\n",
      "Setting options('download.file.method.GEOquery'='auto')\n",
      "Setting options('GEOquery.inmemory.gpl'=FALSE)\n",
      "BioC_mirror: https://bioconductor.org\n",
      "Using Bioconductor 3.6 (BiocInstaller 1.28.0), R 3.4.4 (2018-03-15).\n",
      "Installing package(s) 'limma'\n",
      "Warning message:\n",
      "\"package 'limma' is in use and will not be installed\"installation path not writeable, unable to update packages: cluster, foreign,\n",
      "  Matrix, nlme, survival\n",
      "Old packages: 'pillar', 'robustbase'\n"
     ]
    }
   ],
   "source": [
    "# Install and Load LIMMA Library\n",
    "\n",
    "#source(\"https://bioconductor.org/biocLite.R\")\n",
    "library(GEOquery)\n",
    "#biocLite(\"limma\")\n",
    "library(limma)"
   ]
  },
  {
   "cell_type": "code",
   "execution_count": 29,
   "metadata": {},
   "outputs": [],
   "source": [
    "design <- cbind (BONE=1, BONEVsOESOPHAGUS=c(rep(0, 25), rep(1, 25)))\n",
    "fit <- lmFit (mat.sub, design)\n",
    "fit <- eBayes (fit)"
   ]
  },
  {
   "cell_type": "code",
   "execution_count": 30,
   "metadata": {},
   "outputs": [
    {
     "data": {
      "text/html": [
       "<table>\n",
       "<thead><tr><th></th><th scope=col>logFC</th><th scope=col>AveExpr</th><th scope=col>t</th><th scope=col>P.Value</th><th scope=col>adj.P.Val</th><th scope=col>B</th></tr></thead>\n",
       "<tbody>\n",
       "\t<tr><th scope=row>114569_at</th><td> 7.635240   </td><td>8.175312    </td><td> 27.89929   </td><td>4.401214e-32</td><td>8.329738e-28</td><td>61.76885    </td></tr>\n",
       "\t<tr><th scope=row>25927_at</th><td>-5.527228   </td><td>7.343606    </td><td>-22.77532   </td><td>5.267539e-28</td><td>3.618482e-24</td><td>53.04234    </td></tr>\n",
       "\t<tr><th scope=row>4072_at</th><td> 7.577400   </td><td>8.692216    </td><td> 22.73279   </td><td>5.735732e-28</td><td>3.618482e-24</td><td>52.96199    </td></tr>\n",
       "\t<tr><th scope=row>54845_at</th><td> 6.177600   </td><td>7.291216    </td><td> 22.11387   </td><td>2.010495e-27</td><td>9.512655e-24</td><td>51.77620    </td></tr>\n",
       "\t<tr><th scope=row>999_at</th><td> 4.927020   </td><td>6.969866    </td><td> 21.39715   </td><td>8.910532e-27</td><td>2.993897e-23</td><td>50.36340    </td></tr>\n",
       "</tbody>\n",
       "</table>\n"
      ],
      "text/latex": [
       "\\begin{tabular}{r|llllll}\n",
       "  & logFC & AveExpr & t & P.Value & adj.P.Val & B\\\\\n",
       "\\hline\n",
       "\t114569\\_at &  7.635240    & 8.175312     &  27.89929    & 4.401214e-32 & 8.329738e-28 & 61.76885    \\\\\n",
       "\t25927\\_at & -5.527228    & 7.343606     & -22.77532    & 5.267539e-28 & 3.618482e-24 & 53.04234    \\\\\n",
       "\t4072\\_at &  7.577400    & 8.692216     &  22.73279    & 5.735732e-28 & 3.618482e-24 & 52.96199    \\\\\n",
       "\t54845\\_at &  6.177600    & 7.291216     &  22.11387    & 2.010495e-27 & 9.512655e-24 & 51.77620    \\\\\n",
       "\t999\\_at &  4.927020    & 6.969866     &  21.39715    & 8.910532e-27 & 2.993897e-23 & 50.36340    \\\\\n",
       "\\end{tabular}\n"
      ],
      "text/markdown": [
       "\n",
       "| <!--/--> | logFC | AveExpr | t | P.Value | adj.P.Val | B | \n",
       "|---|---|---|---|---|\n",
       "| 114569_at |  7.635240    | 8.175312     |  27.89929    | 4.401214e-32 | 8.329738e-28 | 61.76885     | \n",
       "| 25927_at | -5.527228    | 7.343606     | -22.77532    | 5.267539e-28 | 3.618482e-24 | 53.04234     | \n",
       "| 4072_at |  7.577400    | 8.692216     |  22.73279    | 5.735732e-28 | 3.618482e-24 | 52.96199     | \n",
       "| 54845_at |  6.177600    | 7.291216     |  22.11387    | 2.010495e-27 | 9.512655e-24 | 51.77620     | \n",
       "| 999_at |  4.927020    | 6.969866     |  21.39715    | 8.910532e-27 | 2.993897e-23 | 50.36340     | \n",
       "\n",
       "\n"
      ],
      "text/plain": [
       "          logFC     AveExpr  t         P.Value      adj.P.Val    B       \n",
       "114569_at  7.635240 8.175312  27.89929 4.401214e-32 8.329738e-28 61.76885\n",
       "25927_at  -5.527228 7.343606 -22.77532 5.267539e-28 3.618482e-24 53.04234\n",
       "4072_at    7.577400 8.692216  22.73279 5.735732e-28 3.618482e-24 52.96199\n",
       "54845_at   6.177600 7.291216  22.11387 2.010495e-27 9.512655e-24 51.77620\n",
       "999_at     4.927020 6.969866  21.39715 8.910532e-27 2.993897e-23 50.36340"
      ]
     },
     "metadata": {},
     "output_type": "display_data"
    }
   ],
   "source": [
    "toptable.mat <- topTable (fit, coef=\"BONEVsOESOPHAGUS\", adjust=\"fdr\", number=nrow(mat.sub))\n",
    "toptable.mat[1:5,]"
   ]
  },
  {
   "cell_type": "code",
   "execution_count": 31,
   "metadata": {},
   "outputs": [
    {
     "data": {
      "text/html": [
       "5616"
      ],
      "text/latex": [
       "5616"
      ],
      "text/markdown": [
       "5616"
      ],
      "text/plain": [
       "[1] 5616"
      ]
     },
     "metadata": {},
     "output_type": "display_data"
    }
   ],
   "source": [
    "# Number of genes with adjusted p-value less than 0.05\n",
    "sum(toptable.mat$adj.P.Val < 0.05)"
   ]
  },
  {
   "cell_type": "code",
   "execution_count": 32,
   "metadata": {},
   "outputs": [
    {
     "data": {
      "text/html": [
       "3607"
      ],
      "text/latex": [
       "3607"
      ],
      "text/markdown": [
       "3607"
      ],
      "text/plain": [
       "[1] 3607"
      ]
     },
     "metadata": {},
     "output_type": "display_data"
    }
   ],
   "source": [
    "# Number of genes with adjusted p-value less than 0.01\n",
    "sum(toptable.mat$adj.P.Val < 0.01)"
   ]
  },
  {
   "cell_type": "code",
   "execution_count": 33,
   "metadata": {},
   "outputs": [
    {
     "data": {
      "text/html": [
       "2039"
      ],
      "text/latex": [
       "2039"
      ],
      "text/markdown": [
       "2039"
      ],
      "text/plain": [
       "[1] 2039"
      ]
     },
     "metadata": {},
     "output_type": "display_data"
    }
   ],
   "source": [
    "# Number of genes with adjusted p-value less than 0.001\n",
    "sum(toptable.mat$adj.P.Val < 0.001)"
   ]
  },
  {
   "cell_type": "code",
   "execution_count": 38,
   "metadata": {},
   "outputs": [
    {
     "name": "stdout",
     "output_type": "stream",
     "text": [
      "[1] \"114569_at\"\n",
      "[1] \"25927_at\"\n",
      "[1] \"4072_at\"\n",
      "[1] \"54845_at\"\n",
      "[1] \"999_at\"\n",
      "[1] \"6692_at\"\n",
      "[1] \"50848_at\"\n",
      "[1] \"5493_at\"\n",
      "[1] \"4921_at\"\n",
      "[1] \"9053_at\"\n"
     ]
    }
   ],
   "source": [
    "# Save DE genes at p < 0.05\n",
    "DE.limma <- rownames(toptable.mat[toptable.mat$adj.P.Val < 0.05,])\n",
    "for (i in 1:10){\n",
    "print(as.character(DE.limma[i]))}"
   ]
  },
  {
   "cell_type": "code",
   "execution_count": 39,
   "metadata": {},
   "outputs": [],
   "source": [
    "# Save Limma's top DE (adj.P.Val < 0.05) probes in a new matrix\n",
    "limma.DE.mat <- mat.sub[DE.limma,]"
   ]
  },
  {
   "cell_type": "code",
   "execution_count": 41,
   "metadata": {},
   "outputs": [
    {
     "data": {
      "text/html": [
       "<table>\n",
       "<thead><tr><th></th><th scope=col>B_GSM886836</th><th scope=col>B_GSM886859</th><th scope=col>B_GSM886901</th><th scope=col>B_GSM886912</th><th scope=col>B_GSM887015</th><th scope=col>B_GSM887088</th><th scope=col>B_GSM887110</th><th scope=col>B_GSM887112</th><th scope=col>B_GSM887118</th><th scope=col>B_GSM887119</th><th scope=col>...</th><th scope=col>O_GSM887692</th><th scope=col>O_GSM887693</th><th scope=col>O_GSM887694</th><th scope=col>O_GSM887695</th><th scope=col>O_GSM887697</th><th scope=col>O_GSM887698</th><th scope=col>O_GSM887700</th><th scope=col>O_GSM887701</th><th scope=col>O_GSM887702</th><th scope=col>O_GSM887713</th></tr></thead>\n",
       "<tbody>\n",
       "\t<tr><th scope=row>114569_at</th><td> 4.2113</td><td>4.2452 </td><td> 4.7768</td><td> 4.7778</td><td>4.1420 </td><td> 4.2896</td><td> 4.1584</td><td> 4.0016</td><td> 3.8696</td><td> 4.1096</td><td>...    </td><td>13.2790</td><td>12.4450</td><td>11.9170</td><td>11.3280</td><td>12.2960</td><td>11.944 </td><td>12.0620</td><td>7.1443 </td><td>12.1370</td><td>11.8570</td></tr>\n",
       "\t<tr><th scope=row>25927_at</th><td>11.6260</td><td>9.1917 </td><td>11.4820</td><td>11.1010</td><td>9.8668 </td><td>11.4930</td><td>10.5210</td><td>10.4840</td><td>10.3940</td><td>10.0440</td><td>...    </td><td> 4.6358</td><td> 4.2448</td><td> 3.9572</td><td> 4.1572</td><td> 4.5827</td><td> 5.737 </td><td> 4.5706</td><td>4.1693 </td><td> 4.3264</td><td> 4.6055</td></tr>\n",
       "\t<tr><th scope=row>4072_at</th><td> 7.9613</td><td>3.9262 </td><td> 4.3619</td><td> 4.1065</td><td>4.3876 </td><td> 8.9929</td><td> 4.4370</td><td> 5.6284</td><td> 4.2781</td><td> 3.4155</td><td>...    </td><td>12.2960</td><td>12.6400</td><td>12.1420</td><td>13.0420</td><td>12.7860</td><td>12.715 </td><td>12.8120</td><td>9.7369 </td><td>11.7120</td><td>12.7300</td></tr>\n",
       "\t<tr><th scope=row>54845_at</th><td> 3.8282</td><td>4.0155 </td><td> 5.1187</td><td> 4.0778</td><td>4.0450 </td><td> 4.3228</td><td> 4.0655</td><td> 4.1024</td><td> 4.1017</td><td> 4.0160</td><td>...    </td><td>10.7490</td><td>11.3000</td><td>10.6240</td><td> 9.7096</td><td>11.1490</td><td>11.099 </td><td>11.4020</td><td>7.5416 </td><td>10.5330</td><td>11.6090</td></tr>\n",
       "\t<tr><th scope=row>999_at</th><td> 4.5008</td><td>4.4259 </td><td> 4.3239</td><td> 4.2208</td><td>4.3942 </td><td> 4.4542</td><td> 4.5792</td><td> 4.4473</td><td> 4.5921</td><td> 4.4367</td><td>...    </td><td> 9.8003</td><td> 7.8246</td><td> 9.8857</td><td> 9.5621</td><td>10.6370</td><td>10.532 </td><td> 8.8120</td><td>7.1866 </td><td>10.0960</td><td> 8.7390</td></tr>\n",
       "</tbody>\n",
       "</table>\n"
      ],
      "text/latex": [
       "\\begin{tabular}{r|llllllllllllllllllllllllllllllllllllllllllllllllll}\n",
       "  & B\\_GSM886836 & B\\_GSM886859 & B\\_GSM886901 & B\\_GSM886912 & B\\_GSM887015 & B\\_GSM887088 & B\\_GSM887110 & B\\_GSM887112 & B\\_GSM887118 & B\\_GSM887119 & ... & O\\_GSM887692 & O\\_GSM887693 & O\\_GSM887694 & O\\_GSM887695 & O\\_GSM887697 & O\\_GSM887698 & O\\_GSM887700 & O\\_GSM887701 & O\\_GSM887702 & O\\_GSM887713\\\\\n",
       "\\hline\n",
       "\t114569\\_at &  4.2113 & 4.2452  &  4.7768 &  4.7778 & 4.1420  &  4.2896 &  4.1584 &  4.0016 &  3.8696 &  4.1096 & ...     & 13.2790 & 12.4450 & 11.9170 & 11.3280 & 12.2960 & 11.944  & 12.0620 & 7.1443  & 12.1370 & 11.8570\\\\\n",
       "\t25927\\_at & 11.6260 & 9.1917  & 11.4820 & 11.1010 & 9.8668  & 11.4930 & 10.5210 & 10.4840 & 10.3940 & 10.0440 & ...     &  4.6358 &  4.2448 &  3.9572 &  4.1572 &  4.5827 &  5.737  &  4.5706 & 4.1693  &  4.3264 &  4.6055\\\\\n",
       "\t4072\\_at &  7.9613 & 3.9262  &  4.3619 &  4.1065 & 4.3876  &  8.9929 &  4.4370 &  5.6284 &  4.2781 &  3.4155 & ...     & 12.2960 & 12.6400 & 12.1420 & 13.0420 & 12.7860 & 12.715  & 12.8120 & 9.7369  & 11.7120 & 12.7300\\\\\n",
       "\t54845\\_at &  3.8282 & 4.0155  &  5.1187 &  4.0778 & 4.0450  &  4.3228 &  4.0655 &  4.1024 &  4.1017 &  4.0160 & ...     & 10.7490 & 11.3000 & 10.6240 &  9.7096 & 11.1490 & 11.099  & 11.4020 & 7.5416  & 10.5330 & 11.6090\\\\\n",
       "\t999\\_at &  4.5008 & 4.4259  &  4.3239 &  4.2208 & 4.3942  &  4.4542 &  4.5792 &  4.4473 &  4.5921 &  4.4367 & ...     &  9.8003 &  7.8246 &  9.8857 &  9.5621 & 10.6370 & 10.532  &  8.8120 & 7.1866  & 10.0960 &  8.7390\\\\\n",
       "\\end{tabular}\n"
      ],
      "text/markdown": [
       "\n",
       "| <!--/--> | B_GSM886836 | B_GSM886859 | B_GSM886901 | B_GSM886912 | B_GSM887015 | B_GSM887088 | B_GSM887110 | B_GSM887112 | B_GSM887118 | B_GSM887119 | ... | O_GSM887692 | O_GSM887693 | O_GSM887694 | O_GSM887695 | O_GSM887697 | O_GSM887698 | O_GSM887700 | O_GSM887701 | O_GSM887702 | O_GSM887713 | \n",
       "|---|---|---|---|---|\n",
       "| 114569_at |  4.2113 | 4.2452  |  4.7768 |  4.7778 | 4.1420  |  4.2896 |  4.1584 |  4.0016 |  3.8696 |  4.1096 | ...     | 13.2790 | 12.4450 | 11.9170 | 11.3280 | 12.2960 | 11.944  | 12.0620 | 7.1443  | 12.1370 | 11.8570 | \n",
       "| 25927_at | 11.6260 | 9.1917  | 11.4820 | 11.1010 | 9.8668  | 11.4930 | 10.5210 | 10.4840 | 10.3940 | 10.0440 | ...     |  4.6358 |  4.2448 |  3.9572 |  4.1572 |  4.5827 |  5.737  |  4.5706 | 4.1693  |  4.3264 |  4.6055 | \n",
       "| 4072_at |  7.9613 | 3.9262  |  4.3619 |  4.1065 | 4.3876  |  8.9929 |  4.4370 |  5.6284 |  4.2781 |  3.4155 | ...     | 12.2960 | 12.6400 | 12.1420 | 13.0420 | 12.7860 | 12.715  | 12.8120 | 9.7369  | 11.7120 | 12.7300 | \n",
       "| 54845_at |  3.8282 | 4.0155  |  5.1187 |  4.0778 | 4.0450  |  4.3228 |  4.0655 |  4.1024 |  4.1017 |  4.0160 | ...     | 10.7490 | 11.3000 | 10.6240 |  9.7096 | 11.1490 | 11.099  | 11.4020 | 7.5416  | 10.5330 | 11.6090 | \n",
       "| 999_at |  4.5008 | 4.4259  |  4.3239 |  4.2208 | 4.3942  |  4.4542 |  4.5792 |  4.4473 |  4.5921 |  4.4367 | ...     |  9.8003 |  7.8246 |  9.8857 |  9.5621 | 10.6370 | 10.532  |  8.8120 | 7.1866  | 10.0960 |  8.7390 | \n",
       "\n",
       "\n"
      ],
      "text/plain": [
       "          B_GSM886836 B_GSM886859 B_GSM886901 B_GSM886912 B_GSM887015\n",
       "114569_at  4.2113     4.2452       4.7768      4.7778     4.1420     \n",
       "25927_at  11.6260     9.1917      11.4820     11.1010     9.8668     \n",
       "4072_at    7.9613     3.9262       4.3619      4.1065     4.3876     \n",
       "54845_at   3.8282     4.0155       5.1187      4.0778     4.0450     \n",
       "999_at     4.5008     4.4259       4.3239      4.2208     4.3942     \n",
       "          B_GSM887088 B_GSM887110 B_GSM887112 B_GSM887118 B_GSM887119 ...\n",
       "114569_at  4.2896      4.1584      4.0016      3.8696      4.1096     ...\n",
       "25927_at  11.4930     10.5210     10.4840     10.3940     10.0440     ...\n",
       "4072_at    8.9929      4.4370      5.6284      4.2781      3.4155     ...\n",
       "54845_at   4.3228      4.0655      4.1024      4.1017      4.0160     ...\n",
       "999_at     4.4542      4.5792      4.4473      4.5921      4.4367     ...\n",
       "          O_GSM887692 O_GSM887693 O_GSM887694 O_GSM887695 O_GSM887697\n",
       "114569_at 13.2790     12.4450     11.9170     11.3280     12.2960    \n",
       "25927_at   4.6358      4.2448      3.9572      4.1572      4.5827    \n",
       "4072_at   12.2960     12.6400     12.1420     13.0420     12.7860    \n",
       "54845_at  10.7490     11.3000     10.6240      9.7096     11.1490    \n",
       "999_at     9.8003      7.8246      9.8857      9.5621     10.6370    \n",
       "          O_GSM887698 O_GSM887700 O_GSM887701 O_GSM887702 O_GSM887713\n",
       "114569_at 11.944      12.0620     7.1443      12.1370     11.8570    \n",
       "25927_at   5.737       4.5706     4.1693       4.3264      4.6055    \n",
       "4072_at   12.715      12.8120     9.7369      11.7120     12.7300    \n",
       "54845_at  11.099      11.4020     7.5416      10.5330     11.6090    \n",
       "999_at    10.532       8.8120     7.1866      10.0960      8.7390    "
      ]
     },
     "metadata": {},
     "output_type": "display_data"
    }
   ],
   "source": [
    "limma.DE.mat[1:5,]"
   ]
  },
  {
   "cell_type": "code",
   "execution_count": 11,
   "metadata": {},
   "outputs": [],
   "source": [
    "# Install and load R Color Brewer\n",
    "\n",
    "#install.packages(\"RColorBrewer\",repos = \"http://cran.us.r-project.org\")\n",
    "library(\"RColorBrewer\")"
   ]
  },
  {
   "cell_type": "code",
   "execution_count": 9,
   "metadata": {},
   "outputs": [],
   "source": [
    "# modify the distance function to use correlation - Pearson by default - (based on Yeung et al. [22])\n",
    "\n",
    "newdist <- function (x) {as.dist (1-cor(t(x)))/2}"
   ]
  },
  {
   "cell_type": "code",
   "execution_count": 45,
   "metadata": {},
   "outputs": [
    {
     "data": {
      "image/png": "[encoded data removed]",
      "text/plain": [
       "Plot with title \"LIMMA Heatmap\""
      ]
     },
     "metadata": {},
     "output_type": "display_data"
    }
   ],
   "source": [
    "# Heatmap for DE genes resulted from LIMMA\n",
    "heatmap (as.matrix(limma.DE.mat), distfun=newdist, labRow = FALSE, , col=brewer.pal(10,\"RdYlBu\"), main=\"LIMMA Heatmap\")"
   ]
  },
  {
   "cell_type": "code",
   "execution_count": 12,
   "metadata": {},
   "outputs": [
    {
     "data": {
      "image/png": "[encoded data removed]",
      "text/plain": [
       "Plot with title \"Benjamini Hochberg Heatmap\""
      ]
     },
     "metadata": {},
     "output_type": "display_data"
    }
   ],
   "source": [
    "# Heatmap for DE genes resulted from Benjamini Hochberg (FDR)\n",
    "heatmap (as.matrix(fdr.DE.mat), distfun=newdist, labRow = FALSE, , col=brewer.pal(10,\"RdYlBu\"), main=\"Benjamini Hochberg Heatmap\")"
   ]
  },
  {
   "cell_type": "code",
   "execution_count": null,
   "metadata": {},
   "outputs": [],
   "source": []
  }
 ],
 "metadata": {
  "kernelspec": {
   "display_name": "R",
   "language": "R",
   "name": "ir"
  },
  "language_info": {
   "codemirror_mode": "r",
   "file_extension": ".r",
   "mimetype": "text/x-r-source",
   "name": "R",
   "pygments_lexer": "r",
   "version": "3.4.4"
  }
 },
 "nbformat": 4,
 "nbformat_minor": 2
}
